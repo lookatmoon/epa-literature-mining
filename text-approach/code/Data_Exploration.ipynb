{
  "nbformat": 4,
  "nbformat_minor": 0,
  "metadata": {
    "colab": {
      "name": "Data Exploration.ipynb",
      "provenance": [],
      "collapsed_sections": []
    },
    "kernelspec": {
      "name": "python3",
      "display_name": "Python 3"
    },
    "language_info": {
      "name": "python"
    }
  },
  "cells": [
    {
      "cell_type": "code",
      "metadata": {
        "id": "5fplWhS-U-kC"
      },
      "source": [
        "import re\n",
        "import string\n",
        "import nltk\n",
        "\n",
        "import pandas as pd\n",
        "import numpy as np\n",
        "\n",
        "from collections import Counter\n",
        "from nltk.tokenize import word_tokenize\n",
        "from nltk.corpus import stopwords\n",
        "from gensim import corpora\n",
        "import gensim"
      ],
      "execution_count": null,
      "outputs": []
    },
    {
      "cell_type": "markdown",
      "metadata": {
        "id": "jeMNF019aGCW"
      },
      "source": [
        "#File import"
      ]
    },
    {
      "cell_type": "code",
      "metadata": {
        "id": "kjrtOxY-VVox"
      },
      "source": [
        "#the files s2013 and s2020 are available here: https://drive.google.com/drive/folders/1wkQN4_byG8uVf6AduA8nsC3QHN5ZOXH6?usp=sharing\n",
        "filepath = './c2013.csv'\n",
        "c2013 = pd.read_csv(filepath,engine='python')\n",
        "filepath2 = './c2020.csv'\n",
        "c2020 = pd.read_csv(filepath2,engine='python')\n",
        "filepath3 = './s2013.csv'\n",
        "s2013 = pd.read_csv(filepath3,engine='python')\n",
        "filepath4 = './s2020.csv'\n",
        "s2020 = pd.read_csv(filepath4,engine='python',error_bad_lines=False)"
      ],
      "execution_count": null,
      "outputs": []
    },
    {
      "cell_type": "markdown",
      "metadata": {
        "id": "QYybfsdgYzT-"
      },
      "source": [
        "#Data Cleaning and Extraction\n",
        "\n",
        "\n"
      ]
    },
    {
      "cell_type": "code",
      "metadata": {
        "colab": {
          "base_uri": "https://localhost:8080/"
        },
        "id": "XvDMv9GOyfhj",
        "outputId": "ac48a060-18b6-4b46-dd2f-deb879107afa"
      },
      "source": [
        "nltk.download('punkt')\n",
        "nltk.download('stopwords')\n",
        "\n",
        "STOP_WORDS = stopwords.words()\n",
        "\n",
        "def cleaning(text):\n",
        "    \"\"\"\n",
        "    Convert to lowercase.\n",
        "    Rremove URL links, special characters and punctuation.\n",
        "    Tokenize and remove stop words.\n",
        "    \"\"\"\n",
        "    text = str(text).lower()\n",
        "    text = re.sub('https?://\\S+|www\\.\\S+', '', text)\n",
        "    text = re.sub('<.*?>+', '', text)\n",
        "    text = re.sub('[%s]' % re.escape(string.punctuation), '', text)\n",
        "    text = re.sub('\\n', '', text)\n",
        "    text = re.sub('[’“”…]', '', text)\n",
        "\n",
        "    # removing the stop-words\n",
        "    text_tokens = word_tokenize(text)\n",
        "    tokens_without_sw = [\n",
        "        word for word in text_tokens if not word in STOP_WORDS]\n",
        "    filtered_sentence = (\" \").join(tokens_without_sw)\n",
        "    text = filtered_sentence\n",
        "\n",
        "    return text\n",
        "    \n",
        "# df = df['TITLE'].apply(cleaning)"
      ],
      "execution_count": null,
      "outputs": [
        {
          "output_type": "stream",
          "name": "stdout",
          "text": [
            "[nltk_data] Downloading package punkt to /root/nltk_data...\n",
            "[nltk_data]   Unzipping tokenizers/punkt.zip.\n",
            "[nltk_data] Downloading package stopwords to /root/nltk_data...\n",
            "[nltk_data]   Unzipping corpora/stopwords.zip.\n"
          ]
        }
      ]
    },
    {
      "cell_type": "code",
      "metadata": {
        "id": "Es1NG_hFA7tp"
      },
      "source": [
        "# counting unigrams and bigrams\n",
        "def count_unigrams(df):\n",
        "  word_count = Counter(\" \".join(df).split()).most_common(15)\n",
        "  word_frequency = pd.DataFrame(word_count, columns = ['Word', 'Frequency'])\n",
        "  return word_frequency\n",
        "\n",
        "def count_bigrams(df):\n",
        "  words = nltk.tokenize.word_tokenize(df.to_string())\n",
        "  bigram = list(nltk.bigrams(words))\n",
        "  frequency = {}\n",
        "  for item in bigram:\n",
        "    if item in frequency:\n",
        "        frequency[item] += 1\n",
        "    else:\n",
        "        frequency[item] = 1\n",
        "  word_dist = nltk.FreqDist([' '.join(x) for x in bigram])\n",
        "  bigram_frequency = pd.DataFrame(word_dist.most_common(15),columns=['Word', 'Frequency'])\n",
        "  return bigram_frequency\n"
      ],
      "execution_count": null,
      "outputs": []
    },
    {
      "cell_type": "code",
      "metadata": {
        "id": "DDHirWhO7ChH",
        "colab": {
          "base_uri": "https://localhost:8080/",
          "height": 519
        },
        "outputId": "fec80adc-d2cc-4376-9576-48cc16f6eed2"
      },
      "source": [
        "pd.options.display.max_colwidth = 120\n",
        "#choose the specific function, file, and column name to count unigrams/bigrams within your desired dataset\n",
        "#E.g: here, we count the most frequency bigrams appearing in the abstratcs of articles cited in 2013\n",
        "count_bigrams(c2013['ABSTRACT'].apply(cleaning))"
      ],
      "execution_count": null,
      "outputs": [
        {
          "output_type": "execute_result",
          "data": {
            "text/html": [
              "\n",
              "  <div id=\"df-d94b3f85-2e68-4745-bc1d-3ccbbe6cfebf\">\n",
              "    <div class=\"colab-df-container\">\n",
              "      <div>\n",
              "<style scoped>\n",
              "    .dataframe tbody tr th:only-of-type {\n",
              "        vertical-align: middle;\n",
              "    }\n",
              "\n",
              "    .dataframe tbody tr th {\n",
              "        vertical-align: top;\n",
              "    }\n",
              "\n",
              "    .dataframe thead th {\n",
              "        text-align: right;\n",
              "    }\n",
              "</style>\n",
              "<table border=\"1\" class=\"dataframe\">\n",
              "  <thead>\n",
              "    <tr style=\"text-align: right;\">\n",
              "      <th></th>\n",
              "      <th>Word</th>\n",
              "      <th>Frequency</th>\n",
              "    </tr>\n",
              "  </thead>\n",
              "  <tbody>\n",
              "    <tr>\n",
              "      <th>0</th>\n",
              "      <td>ozone o3</td>\n",
              "      <td>260</td>\n",
              "    </tr>\n",
              "    <tr>\n",
              "      <th>1</th>\n",
              "      <td>air pollution</td>\n",
              "      <td>229</td>\n",
              "    </tr>\n",
              "    <tr>\n",
              "      <th>2</th>\n",
              "      <td>ambient air</td>\n",
              "      <td>79</td>\n",
              "    </tr>\n",
              "    <tr>\n",
              "      <th>3</th>\n",
              "      <td>tropospheric ozone</td>\n",
              "      <td>78</td>\n",
              "    </tr>\n",
              "    <tr>\n",
              "      <th>4</th>\n",
              "      <td>air quality</td>\n",
              "      <td>72</td>\n",
              "    </tr>\n",
              "    <tr>\n",
              "      <th>5</th>\n",
              "      <td>air pollutants</td>\n",
              "      <td>68</td>\n",
              "    </tr>\n",
              "    <tr>\n",
              "      <th>6</th>\n",
              "      <td>exposure ozone</td>\n",
              "      <td>60</td>\n",
              "    </tr>\n",
              "    <tr>\n",
              "      <th>7</th>\n",
              "      <td>ozone exposure</td>\n",
              "      <td>52</td>\n",
              "    </tr>\n",
              "    <tr>\n",
              "      <th>8</th>\n",
              "      <td>air pollutant</td>\n",
              "      <td>49</td>\n",
              "    </tr>\n",
              "    <tr>\n",
              "      <th>9</th>\n",
              "      <td>health effects</td>\n",
              "      <td>43</td>\n",
              "    </tr>\n",
              "    <tr>\n",
              "      <th>10</th>\n",
              "      <td>environmental protection</td>\n",
              "      <td>40</td>\n",
              "    </tr>\n",
              "    <tr>\n",
              "      <th>11</th>\n",
              "      <td>lung function</td>\n",
              "      <td>40</td>\n",
              "    </tr>\n",
              "    <tr>\n",
              "      <th>12</th>\n",
              "      <td>us environmental</td>\n",
              "      <td>36</td>\n",
              "    </tr>\n",
              "    <tr>\n",
              "      <th>13</th>\n",
              "      <td>o3 exposure</td>\n",
              "      <td>36</td>\n",
              "    </tr>\n",
              "    <tr>\n",
              "      <th>14</th>\n",
              "      <td>particulate matter</td>\n",
              "      <td>36</td>\n",
              "    </tr>\n",
              "  </tbody>\n",
              "</table>\n",
              "</div>\n",
              "      <button class=\"colab-df-convert\" onclick=\"convertToInteractive('df-d94b3f85-2e68-4745-bc1d-3ccbbe6cfebf')\"\n",
              "              title=\"Convert this dataframe to an interactive table.\"\n",
              "              style=\"display:none;\">\n",
              "        \n",
              "  <svg xmlns=\"http://www.w3.org/2000/svg\" height=\"24px\"viewBox=\"0 0 24 24\"\n",
              "       width=\"24px\">\n",
              "    <path d=\"M0 0h24v24H0V0z\" fill=\"none\"/>\n",
              "    <path d=\"M18.56 5.44l.94 2.06.94-2.06 2.06-.94-2.06-.94-.94-2.06-.94 2.06-2.06.94zm-11 1L8.5 8.5l.94-2.06 2.06-.94-2.06-.94L8.5 2.5l-.94 2.06-2.06.94zm10 10l.94 2.06.94-2.06 2.06-.94-2.06-.94-.94-2.06-.94 2.06-2.06.94z\"/><path d=\"M17.41 7.96l-1.37-1.37c-.4-.4-.92-.59-1.43-.59-.52 0-1.04.2-1.43.59L10.3 9.45l-7.72 7.72c-.78.78-.78 2.05 0 2.83L4 21.41c.39.39.9.59 1.41.59.51 0 1.02-.2 1.41-.59l7.78-7.78 2.81-2.81c.8-.78.8-2.07 0-2.86zM5.41 20L4 18.59l7.72-7.72 1.47 1.35L5.41 20z\"/>\n",
              "  </svg>\n",
              "      </button>\n",
              "      \n",
              "  <style>\n",
              "    .colab-df-container {\n",
              "      display:flex;\n",
              "      flex-wrap:wrap;\n",
              "      gap: 12px;\n",
              "    }\n",
              "\n",
              "    .colab-df-convert {\n",
              "      background-color: #E8F0FE;\n",
              "      border: none;\n",
              "      border-radius: 50%;\n",
              "      cursor: pointer;\n",
              "      display: none;\n",
              "      fill: #1967D2;\n",
              "      height: 32px;\n",
              "      padding: 0 0 0 0;\n",
              "      width: 32px;\n",
              "    }\n",
              "\n",
              "    .colab-df-convert:hover {\n",
              "      background-color: #E2EBFA;\n",
              "      box-shadow: 0px 1px 2px rgba(60, 64, 67, 0.3), 0px 1px 3px 1px rgba(60, 64, 67, 0.15);\n",
              "      fill: #174EA6;\n",
              "    }\n",
              "\n",
              "    [theme=dark] .colab-df-convert {\n",
              "      background-color: #3B4455;\n",
              "      fill: #D2E3FC;\n",
              "    }\n",
              "\n",
              "    [theme=dark] .colab-df-convert:hover {\n",
              "      background-color: #434B5C;\n",
              "      box-shadow: 0px 1px 3px 1px rgba(0, 0, 0, 0.15);\n",
              "      filter: drop-shadow(0px 1px 2px rgba(0, 0, 0, 0.3));\n",
              "      fill: #FFFFFF;\n",
              "    }\n",
              "  </style>\n",
              "\n",
              "      <script>\n",
              "        const buttonEl =\n",
              "          document.querySelector('#df-d94b3f85-2e68-4745-bc1d-3ccbbe6cfebf button.colab-df-convert');\n",
              "        buttonEl.style.display =\n",
              "          google.colab.kernel.accessAllowed ? 'block' : 'none';\n",
              "\n",
              "        async function convertToInteractive(key) {\n",
              "          const element = document.querySelector('#df-d94b3f85-2e68-4745-bc1d-3ccbbe6cfebf');\n",
              "          const dataTable =\n",
              "            await google.colab.kernel.invokeFunction('convertToInteractive',\n",
              "                                                     [key], {});\n",
              "          if (!dataTable) return;\n",
              "\n",
              "          const docLinkHtml = 'Like what you see? Visit the ' +\n",
              "            '<a target=\"_blank\" href=https://colab.research.google.com/notebooks/data_table.ipynb>data table notebook</a>'\n",
              "            + ' to learn more about interactive tables.';\n",
              "          element.innerHTML = '';\n",
              "          dataTable['output_type'] = 'display_data';\n",
              "          await google.colab.output.renderOutput(dataTable, element);\n",
              "          const docLink = document.createElement('div');\n",
              "          docLink.innerHTML = docLinkHtml;\n",
              "          element.appendChild(docLink);\n",
              "        }\n",
              "      </script>\n",
              "    </div>\n",
              "  </div>\n",
              "  "
            ],
            "text/plain": [
              "                        Word  Frequency\n",
              "0                   ozone o3        260\n",
              "1              air pollution        229\n",
              "2                ambient air         79\n",
              "3         tropospheric ozone         78\n",
              "4                air quality         72\n",
              "5             air pollutants         68\n",
              "6             exposure ozone         60\n",
              "7             ozone exposure         52\n",
              "8              air pollutant         49\n",
              "9             health effects         43\n",
              "10  environmental protection         40\n",
              "11             lung function         40\n",
              "12          us environmental         36\n",
              "13               o3 exposure         36\n",
              "14        particulate matter         36"
            ]
          },
          "metadata": {},
          "execution_count": 6
        }
      ]
    },
    {
      "cell_type": "markdown",
      "metadata": {
        "id": "OeikcWpFi8cF"
      },
      "source": [
        "#Data Exploration"
      ]
    },
    {
      "cell_type": "code",
      "metadata": {
        "id": "B49nPap4UIgA",
        "colab": {
          "base_uri": "https://localhost:8080/"
        },
        "outputId": "1567df3b-f08d-4b77-8d3a-60558ef77fe7"
      },
      "source": [
        "# topic modeling\n",
        "nltk.download('stopwords')\n",
        "en_stop = set(nltk.corpus.stopwords.words('english'))\n",
        "\n",
        "def prepare_text_for_lda(text):\n",
        "    # convert all words into lower case, split by white space\n",
        "    tokens = str(text).strip().lower().split()\n",
        "    \n",
        "    #  remove words with 1 or 2 letters (small words, punctuation)\n",
        "    tokens = [token for token in tokens if len(token) > 2]\n",
        "    tokens = [token for token in tokens if token not in en_stop]\n",
        "    return tokens\n",
        "    "
      ],
      "execution_count": null,
      "outputs": [
        {
          "output_type": "stream",
          "name": "stdout",
          "text": [
            "[nltk_data] Downloading package stopwords to /root/nltk_data...\n",
            "[nltk_data]   Package stopwords is already up-to-date!\n"
          ]
        }
      ]
    },
    {
      "cell_type": "code",
      "source": [
        "# take out title texts in a list\n",
        "c2013_titles = []\n",
        "for index, row in c2013.iterrows():\n",
        "    title_text = c2013['ABSTRACT']\n",
        "    c2013_titles.append( title_text )\n",
        "    \n",
        "print(c2013_titles[0])\n",
        "\n",
        "s2013_titles = []\n",
        "for index, row in s2013.iterrows():\n",
        "    title_text = row['TITLE']\n",
        "    s2013_titles.append( title_text )\n",
        "    \n",
        "print(s2013_titles[0])\n",
        "\n",
        "c2020_titles = []\n",
        "for index, row in c2020.iterrows():\n",
        "    title_text = row['TITLE']\n",
        "    c2020_titles.append( title_text )\n",
        "    \n",
        "print(c2020_titles[0])\n",
        "\n",
        "s2020_titles = []\n",
        "for index, row in s2020.iterrows():\n",
        "    title_text = row['TITLE']\n",
        "    s2020_titles.append( title_text )\n",
        "    \n",
        "print(s2020_titles[0])"
      ],
      "metadata": {
        "colab": {
          "base_uri": "https://localhost:8080/"
        },
        "id": "JY52_KgTDHKK",
        "outputId": "1fc720c7-0b5d-4c6f-da77-df042b6e3e11"
      },
      "execution_count": null,
      "outputs": [
        {
          "output_type": "stream",
          "name": "stdout",
          "text": [
            "0       Medical Research Council (UK); Wellcome Trust.Water soluble antioxidant--ascorbate (AA), urate (UA), and reduced glu...\n",
            "1       U.S. Environmental Protection Agency; California Air Resources Board.  #We conducted a prospective study of a cohort...\n",
            "2       EPA's National Exposure Research Laboratory (NERL) has combined data from 12 U.S. studies related to human activitie...\n",
            "3       Astra Draco AB [Lund, Sweden]. #Inhalation of ozone in normal subjects causes a neutrophilic inflammatory response i...\n",
            "4       Exposure to ambient ozone (O3) is associated with increased exacerbations of asthma. We sought to determine whether ...\n",
            "                                                                 ...                                                           \n",
            "2231    Improving air quality by reducing ambient ozone (O(3)) will likely lower O(3) concentrations throughout the troposph...\n",
            "2232                                                                                                                        NaN\n",
            "2233    In this paper, we discuss the results of 2000-2100 simulations following the emissions associated with the Represent...\n",
            "2234    Many factors increasesusceptibility of forests to wildfire. Among them are increases in human population, changes in...\n",
            "2235    Spring wheat plants (cv. 'Turbo') grown at four different levels of nitrogen fertilization (deficient, low, optimum ...\n",
            "Name: ABSTRACT, Length: 2236, dtype: object\n",
            "Modeling the interactions of ozone with pulmonary epithelial lining fluid antioxidants\n",
            "Long-term ambient ozone concentration and the incidence of asthma in nonsmoking adults: the Ahsmog study\n",
            "Asbestos-induced lung injury in the sheep model: the initial alveolitis\n"
          ]
        }
      ]
    },
    {
      "cell_type": "code",
      "source": [
        "# take out abstract texts in a list\n",
        "c2013_abstracts = []\n",
        "for index, row in c2013.iterrows():\n",
        "    abstract_text = row['ABSTRACT']\n",
        "    c2013_abstracts.append( abstract_text )\n",
        "\n",
        "print (c2013_abstracts[0])\n",
        "\n",
        "s2013_abstracts = []\n",
        "for index, row in s2013.iterrows():\n",
        "    abstract_text = row['ABSTRACT']\n",
        "    s2013_abstracts.append( abstract_text )\n",
        "\n",
        "print (s2013_abstracts[0])\n",
        "\n",
        "c2020_abstracts = []\n",
        "for index, row in c2020.iterrows():\n",
        "    abstract_text = row['ABSTRACT']\n",
        "    c2020_abstracts.append( abstract_text )\n",
        "\n",
        "print (c2020_abstracts[0])\n",
        "\n",
        "s2020_abstracts = []\n",
        "for index, row in s2020.iterrows():\n",
        "    abstract_text = row['ABSTRACT']\n",
        "    s2020_abstracts.append( abstract_text )\n",
        "\n",
        "print (s2020_abstracts[0])"
      ],
      "metadata": {
        "colab": {
          "base_uri": "https://localhost:8080/"
        },
        "id": "90tv1Fd-DHme",
        "outputId": "e690dee2-d93a-4f73-af7a-97820d2b717c"
      },
      "execution_count": null,
      "outputs": [
        {
          "output_type": "stream",
          "name": "stdout",
          "text": [
            "Medical Research Council (UK); Wellcome Trust.Water soluble antioxidant--ascorbate (AA), urate (UA), and reduced glutathione (GSH)--consumption by ozone (O3) was investigated in a range of pulmonary epithelial lining fluid (ELF) models. Antioxidants were exposed individually and as a composite mixture, with and without human albumin to a range of ambient O3 concentrations: 0-1500 ppb using a continually mixed, interfacial exposure setup. We observed the following: (1) UA constituted the most o3-reactive substrate in each of the models examined. Reactivity hierarchies  in each were as follows: UA > AA >> GSH (individual antioxidant), UA > AA > GSH (composite antioxidant), and UA >> AA approximately equal to GSH (composite antioxidant + albumin). Consumption of  GSH as a pure antioxidant solution was associated with a 2:1 stoichiometric conversion of GSH to GSSG. This simplistic relationship was lost in the more complex models. (3) Consumption of antioxidants by O3 occurred without alteration of sample pH. (4) Protein carbonyl formation was observed when albumin alone was exposed to O3. However, in the presence of the composite antioxidant solution no evidence of this oxidative modification was apparent. These data indicate that GSH does not represent an important substrate for O3. In contrast, UA displays high reactivity consistent with its acting as a sacrificial substrate in the ELF. As UA concentrations are highest in the ELF of the proximal airways, its localization, allied to its reactivity, suggesting that it plays important roles, both in conferring protection locally and also by \"scrubbing\" O3, from inhaled air, limiting its penetration to the more sensitive distal lung.\n",
            "Medical Research Council (UK); Wellcome Trust.Water soluble antioxidant--ascorbate (AA), urate (UA), and reduced glutathione (GSH)--consumption by ozone (O3) was investigated in a range of pulmonary epithelial lining fluid (ELF) models. Antioxidants were exposed individually and as a composite mixture, with and without human albumin to a range of ambient O3 concentrations: 0-1500 ppb using a continually mixed, interfacial exposure setup. We observed the following: (1) UA constituted the most o3-reactive substrate in each of the models examined. Reactivity hierarchies  in each were as follows: UA > AA >> GSH (individual antioxidant), UA > AA > GSH (composite antioxidant), and UA >> AA approximately equal to GSH (composite antioxidant + albumin). Consumption of  GSH as a pure antioxidant solution was associated with a 2:1 stoichiometric conversion of GSH to GSSG. This simplistic relationship was lost in the more complex models. (3) Consumption of antioxidants by O3 occurred without alteration of sample pH. (4) Protein carbonyl formation was observed when albumin alone was exposed to O3. However, in the presence of the composite antioxidant solution no evidence of this oxidative modification was apparent. These data indicate that GSH does not represent an important substrate for O3. In contrast, UA displays high reactivity consistent with its acting as a sacrificial substrate in the ELF. As UA concentrations are highest in the ELF of the proximal airways, its localization, allied to its reactivity, suggesting that it plays important roles, both in conferring protection locally and also by \"scrubbing\" O3, from inhaled air, limiting its penetration to the more sensitive distal lung.\n",
            "U.S. Environmental Protection Agency; California Air Resources Board.  #We conducted a prospective study of a cohort of 3091 nonsmokers, ages 27 to 87 years, to evaluate the association between long-term ambient ozone exposure and development of adult-onset asthma. Over a 15-year period, 3.2% of males and 4.3% of females reported new doctor diagnoses of asthma. For males, we observed a significant relationship between report of doctor diagnosis of asthma and 20-year mean 8-h average ambient ozone concentration (relative risk (RR) = 2.09 for a 27 ppb increase in ozone concentration, 95% CI = 1.03 to 4.16). We observed no such relationship for females. Other variables significantly related to development of asthma were a history of ever-smoking for males (HR = 237, 95% CI = 1.13 to 4.81), and for females, number of years worked with a smoker (RR  1.21 for a 7-year increment, 95% CI = 1.04 to 1.39), age (RH = 0.61 for a 16-year increment, 95% CI = 0.44 to 0.84), and a history of childhood pneumonia or\n",
            "bronchitis (RH = 2.96, 95% CI = 1.68 to 5.03). Addition of other pollutants (PM10, SO4, NO2, and SO2) to the models did not diminish the relationship between ozone and asthma for males. These data suggest that long-term exposure to ambient ozone is associated with development of asthma in adult males.\n",
            "In order to study the cellular and biochemical changes in early asbestosis, three groups of sheep were repeatedly exposed to intratracheal instillations of either saline (controls), low doses of UICC chrysotile asbestos (LD), or high doses of the fibers (HD) until an alveolitis was observed in all HD sheep during the twelfth month of exposure. All sheep were studied bimonthly by transbronchial lung biopsy (LB), bronchoalveolar lavage (BAL), pulmonary function tests (PFT), and chest roentgenograms (CXR). While LBs of the HD sheep demonstrated large accumulations of monocyte-macrophages in the alveolar and interstitial spaces, those of controls and LD sheep did not. In BAL, there was no difference in total and differential cell counts between groups, but the BAL lymphocyte proliferative capacity was clearly depressed in all asbestos-exposed sheep. In the BAL supernatant, total proteins (mainly albumin, beta + gamma globulins) and lactate dehydrogenase were significantly elevated in the HD group only. This alveolitis was associated with a fall in vital capacity, lung compliance, diffusing capacity, and arterial PO2. Abnormalities on CXR appeared 3 months later. Thus, the cellular and biochemical features of early asbestosis are clearly distinct from those reported in idiopathic pulmonary fibrosis.\n"
          ]
        }
      ]
    },
    {
      "cell_type": "code",
      "source": [
        "#Use desired lists from above for topic modeling\n",
        "#E.g: topic modeling on the abstracts of articles cited in 2020 \n",
        "c2020_text_abstract = []\n",
        "for abstract in c2020_abstracts:\n",
        "    abstract = prepare_text_for_lda(abstract)\n",
        "    c2020_text_abstract.append(abstract)\n",
        "    \n",
        "c2020_abstract_dictionary = corpora.Dictionary(c2020_text_abstract)\n",
        "c2020_abstract_corpus = [c2020_abstract_dictionary.doc2bow(text) for text in c2020_text_abstract]"
      ],
      "metadata": {
        "id": "r5peXnrCC2aA"
      },
      "execution_count": null,
      "outputs": []
    },
    {
      "cell_type": "code",
      "metadata": {
        "id": "dlAmbsDPVhKo",
        "colab": {
          "base_uri": "https://localhost:8080/"
        },
        "outputId": "a90c5b57-29f1-4388-edaf-eceb7f19ac68"
      },
      "source": [
        "# train latent Dirichlet topic model\n",
        "NUM_TOPICS = 20\n",
        "ldamodel = gensim.models.ldamodel.LdaModel(c2020_abstract_corpus, num_topics = NUM_TOPICS, id2word=c2020_abstract_dictionary, passes=15)\n",
        "\n",
        "topics = ldamodel.print_topics(num_words=6)\n",
        "for topic in topics:\n",
        "    print(topic)"
      ],
      "execution_count": null,
      "outputs": [
        {
          "output_type": "stream",
          "name": "stdout",
          "text": [
            "(0, '0.007*\"effects\" + 0.003*\"higher\" + 0.003*\"/><br\" + 0.003*\"exposure\" + 0.003*\"estimated\" + 0.003*\"obese\"')\n",
            "(1, '0.024*\"ozone\" + 0.017*\"model\" + 0.011*\"emissions\" + 0.009*\"air\" + 0.007*\"quality\" + 0.006*\"o-3\"')\n",
            "(2, '0.024*\"nan\" + 0.007*\"o-3\" + 0.004*\"ventilation\" + 0.003*\"used\" + 0.003*\"ozone\" + 0.003*\"filtration\"')\n",
            "(3, '0.018*\"ozone\" + 0.012*\"lung\" + 0.007*\"mice\" + 0.007*\"exposure\" + 0.006*\"mice.\" + 0.006*\"pulmonary\"')\n",
            "(4, '0.022*\"air\" + 0.015*\"/><br\" + 0.014*\"pollution\" + 0.014*\"associated\" + 0.011*\"risk\" + 0.010*\"increase\"')\n",
            "(5, '0.015*\"ozone\" + 0.005*\"rats\" + 0.004*\"exposure\" + 0.004*\"increased\" + 0.004*\"levels\" + 0.003*\"concentrations\"')\n",
            "(6, '0.007*\"airway\" + 0.007*\"model\" + 0.006*\"ozone\" + 0.005*\"data\" + 0.005*\"exposure\" + 0.004*\"response\"')\n",
            "(7, '0.013*\"air\" + 0.008*\"exposure\" + 0.006*\"data\" + 0.006*\"pollution\" + 0.004*\"high\" + 0.004*\"concentrations\"')\n",
            "(8, '0.025*\"elevated\" + 0.019*\"co2\" + 0.010*\"effects\" + 0.009*\"soil\" + 0.009*\"o-3\" + 0.009*\"plant\"')\n",
            "(9, '0.013*\"exposure\" + 0.012*\"air\" + 0.008*\"associated\" + 0.008*\"/><br\" + 0.008*\"pm2.5\" + 0.007*\"pollution\"')\n",
            "(10, '0.011*\"ozone\" + 0.007*\"exposure\" + 0.006*\"air\" + 0.006*\"model\" + 0.005*\"data\" + 0.004*\"effects\"')\n",
            "(11, '0.010*\"ozone\" + 0.004*\"global\" + 0.004*\"changes\" + 0.004*\"air\" + 0.004*\"surface\" + 0.003*\"concentrations\"')\n",
            "(12, '0.036*\"ozone\" + 0.012*\"species\" + 0.009*\"stomatal\" + 0.009*\"growth\" + 0.009*\"effects\" + 0.008*\"ambient\"')\n",
            "(13, '0.021*\"exposure\" + 0.019*\"ozone\" + 0.008*\"air\" + 0.007*\"increased\" + 0.007*\"effects\" + 0.006*\"lung\"')\n",
            "(14, '0.015*\"ozone\" + 0.006*\"exposure\" + 0.006*\"increased\" + 0.005*\"insulin\" + 0.004*\"mice\" + 0.004*\"adipose\"')\n",
            "(15, '0.017*\"o-3\" + 0.007*\"concentrations\" + 0.006*\"emissions\" + 0.005*\"ozone\" + 0.004*\"+/-\" + 0.004*\"surface\"')\n",
            "(16, '0.013*\"exposure\" + 0.012*\"air\" + 0.012*\"ozone\" + 0.006*\"asthma\" + 0.006*\"associated\" + 0.006*\"pollution\"')\n",
            "(17, '0.022*\"air\" + 0.008*\"quality\" + 0.007*\"pollution\" + 0.007*\"ambient\" + 0.006*\"ozone\" + 0.006*\"exposure\"')\n",
            "(18, '0.007*\"air\" + 0.005*\"asthma\" + 0.005*\"ozone\" + 0.005*\"weather\" + 0.003*\"results\" + 0.003*\"ambient\"')\n",
            "(19, '0.017*\"elevated\" + 0.009*\"soil\" + 0.009*\"co2\" + 0.007*\"aspen\" + 0.005*\"effects\" + 0.005*\"biomass\"')\n"
          ]
        }
      ]
    }
  ]
}