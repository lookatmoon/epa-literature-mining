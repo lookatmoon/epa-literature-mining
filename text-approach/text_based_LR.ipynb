{
  "nbformat": 4,
  "nbformat_minor": 0,
  "metadata": {
    "colab": {
      "name": "text_based_LR.ipynb",
      "provenance": [],
      "collapsed_sections": []
    },
    "kernelspec": {
      "name": "python3",
      "display_name": "Python 3"
    },
    "language_info": {
      "name": "python"
    }
  },
  "cells": [
    {
      "cell_type": "code",
      "metadata": {
        "id": "O6QQduhAuNiF"
      },
      "source": [
        "import re\n",
        "import string\n",
        "import nltk\n",
        "import random\n",
        "\n",
        "import pandas as pd\n",
        "import numpy as np\n",
        "\n",
        "from collections import Counter\n",
        "from gensim import corpora\n",
        "from statistics import mean\n",
        "import gensim\n",
        "\n",
        "import sklearn\n",
        "from sklearn.feature_extraction.text import TfidfVectorizer, CountVectorizer, HashingVectorizer\n",
        "from sklearn.linear_model import LogisticRegression\n",
        "\n",
        "import matplotlib as mpl \n",
        "import matplotlib.pyplot as plt "
      ],
      "execution_count": 2,
      "outputs": []
    },
    {
      "cell_type": "markdown",
      "metadata": {
        "id": "bHsSx52CyW15"
      },
      "source": [
        "#File import"
      ]
    },
    {
      "cell_type": "code",
      "metadata": {
        "id": "5fxYoQwEyIt-"
      },
      "source": [
        "#the file s2020 is available here: https://drive.google.com/drive/folders/1wkQN4_byG8uVf6AduA8nsC3QHN5ZOXH6?usp=sharing\n",
        "import csv\n",
        "filepath = './s2013.csv'\n",
        "s2013 = pd.read_csv(filepath,engine='python')\n",
        "filepath_2 = './s2020.csv'\n",
        "s2020 = pd.read_csv(filepath_2,engine='python',error_bad_lines=False)\n",
        "# print('data size:', len(s2013))"
      ],
      "execution_count": 4,
      "outputs": []
    },
    {
      "cell_type": "markdown",
      "metadata": {
        "id": "TTsArmQy5XT2"
      },
      "source": [
        "#Convert abstract and construct features\n",
        "\n",
        "\n"
      ]
    },
    {
      "cell_type": "code",
      "metadata": {
        "id": "QF6qKIMu9J3X"
      },
      "source": [
        "#text vectorizer\n",
        "vectorizer = TfidfVectorizer(stop_words = None, ngram_range = (1,3)).fit(s2013['ABSTRACT'].values.astype('U'))"
      ],
      "execution_count": 5,
      "outputs": []
    },
    {
      "cell_type": "code",
      "metadata": {
        "id": "J7UahoYBCzBd"
      },
      "source": [
        "# construct sparse feature matrix\n",
        "# params:\n",
        "#     df: dataframe, with 'original' and 'edit' columns\n",
        "#     vectorizer: sklearn text vectorizer, either TfidfVectorizer or Countvectorizer \n",
        "# return:\n",
        "#     M: a sparse feature matrix that represents df's textual information (used by a predictive model)\n",
        "\n",
        "def construct_feature_matrix(df, vectorizer):\n",
        "    abstract = df['ABSTRACT'].apply(lambda x: np.str_(x)).tolist()\n",
        "  \n",
        "    # here the dimensionality of X is len(df) x |V|\n",
        "    X = vectorizer.transform(abstract)\n",
        "    # T = scipy.sparse.hstack([X,Y,Z])\n",
        "    \n",
        "\n",
        "    return X"
      ],
      "execution_count": 6,
      "outputs": []
    },
    {
      "cell_type": "code",
      "metadata": {
        "colab": {
          "base_uri": "https://localhost:8080/"
        },
        "id": "jvYqct6lDf9A",
        "outputId": "ff335bc4-7885-439a-eb52-b8df9361e9fe"
      },
      "source": [
        "train_Y = s2013['CITED']\n",
        "train_X = construct_feature_matrix(s2013, vectorizer)\n",
        "print(train_X.shape)\n",
        "test_X = construct_feature_matrix(s2020, vectorizer)\n",
        "print(test_X.shape)"
      ],
      "execution_count": 7,
      "outputs": [
        {
          "output_type": "stream",
          "name": "stdout",
          "text": [
            "(15779, 2086172)\n",
            "(171393, 2086172)\n"
          ]
        }
      ]
    },
    {
      "cell_type": "code",
      "metadata": {
        "id": "WqjSHPf1A6sl"
      },
      "source": [
        "#use logistic regression as the classifier and train the model\n",
        "model = LogisticRegression(penalty='l2').fit(train_X, train_Y)\n",
        "test_Y_hat = model.predict_proba(test_X)"
      ],
      "execution_count": 8,
      "outputs": []
    },
    {
      "cell_type": "code",
      "metadata": {
        "colab": {
          "base_uri": "https://localhost:8080/"
        },
        "id": "RbeJW240AkQE",
        "outputId": "5815142d-6f59-48af-b4e5-7c1668e969ea"
      },
      "source": [
        "test_Y_hat"
      ],
      "execution_count": 9,
      "outputs": [
        {
          "output_type": "execute_result",
          "data": {
            "text/plain": [
              "array([[0.79675082, 0.20324918],\n",
              "       [0.96853477, 0.03146523],\n",
              "       [0.73086352, 0.26913648],\n",
              "       ...,\n",
              "       [0.82660123, 0.17339877],\n",
              "       [0.90868586, 0.09131414],\n",
              "       [0.92315575, 0.07684425]])"
            ]
          },
          "metadata": {},
          "execution_count": 9
        }
      ]
    },
    {
      "cell_type": "code",
      "metadata": {
        "id": "vhKSHLz30KhP"
      },
      "source": [
        "prob=[]\n",
        "# index=[]\n",
        "for i in range(0,len(test_Y_hat)):\n",
        "  prob.append(test_Y_hat[i][1])\n",
        "#   index.append(i)"
      ],
      "execution_count": 10,
      "outputs": []
    },
    {
      "cell_type": "code",
      "metadata": {
        "id": "m2qSL459ztyo"
      },
      "source": [
        "#a function to merge lists\n",
        "def merge(list1, list2, list3, list4):\n",
        "    merged_list = []\n",
        "    for i in range(max((len(list1), len(list2),len(list3),len(list4)))):\n",
        "        # while True:\n",
        "        #     try:\n",
        "      tup = (list1[i], list2[i], list3[i],list4[i])\n",
        "            # except IndexError:\n",
        "            #     if len(list3) > len(list2):\n",
        "            #         list2.append('')\n",
        "            #         tup = (list1[i], list2[i],list3[i],list4[i])\n",
        "            #     elif len(list3) < len(list2):\n",
        "            #         list3.append('')\n",
        "            #         tup = (list1[i], list2[i],list3[i],list4[i])\n",
        "            #     continue\n",
        "      merged_list.append(tup)\n",
        "            # break\n",
        "    return merged_list"
      ],
      "execution_count": 12,
      "outputs": []
    },
    {
      "cell_type": "code",
      "metadata": {
        "colab": {
          "base_uri": "https://localhost:8080/"
        },
        "id": "aMWAgYhoznL-",
        "outputId": "4c293bfe-8dbc-4366-dc5d-49f72deef192"
      },
      "source": [
        "#create list of tuples and sort\n",
        "merged_list = merge(s2020['REFERENCE_ID'],s2020['PMID'],s2020['CITED'],prob)\n",
        "merged_list.sort(key=lambda y: y[3],reverse=True)\n",
        "print(merged_list[0:10])"
      ],
      "execution_count": 13,
      "outputs": [
        {
          "output_type": "stream",
          "name": "stdout",
          "text": [
            "[(4256719, nan, 0, 0.8160604486957831), (4256723, nan, 0, 0.8160604486957831), (4256725, nan, 0, 0.8160604486957831), (192003, 19440509.0, 0, 0.7533332740089778), (2353698, 25100647.0, 1, 0.7531435232040026), (1519563, 23522615.0, 1, 0.7393873383369641), (3223161, 27136671.0, 1, 0.7308334617138005), (90969, 16870661.0, 0, 0.7264484000466306), (87885, 16263524.0, 1, 0.7252206873313284), (807160, 20980452.0, 0, 0.719596980487538)]\n"
          ]
        }
      ]
    },
    {
      "cell_type": "markdown",
      "metadata": {
        "id": "dUHE1b_Chql1"
      },
      "source": [
        "#Calculate Recall"
      ]
    },
    {
      "cell_type": "code",
      "metadata": {
        "id": "FqHHRNG6tw5q"
      },
      "source": [
        "def calculate_recall(filepath,pmid_only,num):\n",
        "  #parameters: filepath is the list computed above; \n",
        "  #       pmid_only limites whether the calculation only includes articles with PMIDs\n",
        "  #       num is the number of articles to go through for each calculation e.g: num = 1000 means that we want to calculate the recall every 1000 articles\n",
        "  pair = []\n",
        "  filepath.sort(key=lambda y: y[3],reverse=True)\n",
        "  if pmid_only == True:\n",
        "    filepath=list(filter(lambda c: np.isnan(c[1]) == False, filepath))\n",
        "  for i in range(1,len(filepath),num):\n",
        "    tp = 0\n",
        "    fn = 0\n",
        "    for j in range(1,i):\n",
        "      if filepath[j][2] == 1:\n",
        "        tp += 1\n",
        "    for k in range(i+1,len(filepath)):\n",
        "      if filepath[k][2] == 1:\n",
        "        fn += 1\n",
        "    pair.append((i,tp/(tp+fn)))\n",
        "  return pair"
      ],
      "execution_count": 16,
      "outputs": []
    },
    {
      "cell_type": "code",
      "metadata": {
        "id": "6H72OiudMTP5",
        "colab": {
          "base_uri": "https://localhost:8080/"
        },
        "outputId": "9b103be8-a9b1-428d-d8a6-288267e56936"
      },
      "source": [
        "num = 1000\n",
        "recall=calculate_recall(merged_list,True,num)\n",
        "recall"
      ],
      "execution_count": 24,
      "outputs": [
        {
          "output_type": "execute_result",
          "data": {
            "text/plain": [
              "[(1, 0.0),\n",
              " (1001, 0.39792387543252594),\n",
              " (2001, 0.6043829296424452),\n",
              " (3001, 0.7035755478662054),\n",
              " (4001, 0.7635524798154556),\n",
              " (5001, 0.7946943483275664),\n",
              " (6001, 0.8143021914648212),\n",
              " (7001, 0.839677047289504),\n",
              " (8001, 0.8535178777393311),\n",
              " (9001, 0.8650519031141869),\n",
              " (10001, 0.8754325259515571),\n",
              " (11001, 0.8904267589388697),\n",
              " (12001, 0.9054209919261822),\n",
              " (13001, 0.9100346020761245),\n",
              " (14001, 0.9215686274509803),\n",
              " (15001, 0.9250288350634371),\n",
              " (16001, 0.9319492502883506),\n",
              " (17001, 0.936562860438293),\n",
              " (18001, 0.9411764705882353),\n",
              " (19001, 0.9446366782006921),\n",
              " (20001, 0.9504036908881199),\n",
              " (21001, 0.9573241061130334),\n",
              " (22001, 0.9596309111880046),\n",
              " (23001, 0.9619377162629758),\n",
              " (24001, 0.9642445213379469),\n",
              " (25001, 0.9653979238754326),\n",
              " (26001, 0.9665513264129181),\n",
              " (27001, 0.9677047289504037),\n",
              " (28001, 0.9677047289504037),\n",
              " (29001, 0.9700115340253749),\n",
              " (30001, 0.9711649365628604),\n",
              " (31001, 0.9734717416378316),\n",
              " (32001, 0.9757785467128027),\n",
              " (33001, 0.9769319492502884),\n",
              " (34001, 0.9769319492502884),\n",
              " (35001, 0.9780853517877739),\n",
              " (36001, 0.9780853517877739),\n",
              " (37001, 0.9792387543252595),\n",
              " (38001, 0.9792387543252595),\n",
              " (39001, 0.9826989619377162),\n",
              " (40001, 0.9826989619377162),\n",
              " (41001, 0.9826989619377162),\n",
              " (42001, 0.9838523644752019),\n",
              " (43001, 0.9838523644752019),\n",
              " (44001, 0.9838523644752019),\n",
              " (45001, 0.9838523644752019),\n",
              " (46001, 0.9838523644752019),\n",
              " (47001, 0.9838523644752019),\n",
              " (48001, 0.9838523644752019),\n",
              " (49001, 0.9838523644752019),\n",
              " (50001, 0.9838523644752019),\n",
              " (51001, 0.9850057670126874),\n",
              " (52001, 0.986159169550173),\n",
              " (53001, 0.9873125720876585),\n",
              " (54001, 0.9873125720876585),\n",
              " (55001, 0.9884659746251442),\n",
              " (56001, 0.9884659746251442),\n",
              " (57001, 0.9896193771626297),\n",
              " (58001, 0.9896193771626297),\n",
              " (59001, 0.9896193771626297),\n",
              " (60001, 0.9896193771626297),\n",
              " (61001, 0.9896193771626297),\n",
              " (62001, 0.9896193771626297),\n",
              " (63001, 0.9896193771626297),\n",
              " (64001, 0.9896193771626297),\n",
              " (65001, 0.9896193771626297),\n",
              " (66001, 0.9896193771626297),\n",
              " (67001, 0.9896193771626297),\n",
              " (68001, 0.9907727797001153),\n",
              " (69001, 0.9907727797001153),\n",
              " (70001, 0.9907727797001153),\n",
              " (71001, 0.9907727797001153),\n",
              " (72001, 0.9907727797001153),\n",
              " (73001, 0.9907727797001153),\n",
              " (74001, 0.9907727797001153),\n",
              " (75001, 1.0)]"
            ]
          },
          "metadata": {},
          "execution_count": 24
        }
      ]
    },
    {
      "cell_type": "markdown",
      "metadata": {
        "id": "3Z9B-nb8hwoM"
      },
      "source": [
        "#Creating graphs"
      ]
    },
    {
      "cell_type": "code",
      "metadata": {
        "id": "K4rTZUhASZPl"
      },
      "source": [
        "x_axis = []\n",
        "y_axis = []\n",
        "for i in range(0,len(recall)):\n",
        "  x_axis.append(recall[i][0])\n",
        "  y_axis.append(recall[i][1])"
      ],
      "execution_count": 17,
      "outputs": []
    },
    {
      "cell_type": "code",
      "metadata": {
        "colab": {
          "base_uri": "https://localhost:8080/"
        },
        "id": "PHVJnlRftZ8c",
        "outputId": "04281356-ae37-40bc-dfcb-51ac681033c2"
      },
      "source": [
        "#the percentile of articles going through when recall reaches 95%\n",
        "x = [i for i in range(len(y_axis)) if y_axis[i] > 0.95]\n",
        "percentile=x[0]/len(y_axis)\n",
        "percentile"
      ],
      "execution_count": 21,
      "outputs": [
        {
          "output_type": "execute_result",
          "data": {
            "text/plain": [
              "0.2631578947368421"
            ]
          },
          "metadata": {},
          "execution_count": 21
        }
      ]
    },
    {
      "cell_type": "code",
      "source": [
        "x = [i for i in range(len(y_axis)) if y_axis[i] > 0.95]\n",
        "per_95=x[0]*num\n",
        "y = [i for i in range(len(y_axis)) if y_axis[i] > 0.90]\n",
        "per_90=y[0]*num"
      ],
      "metadata": {
        "id": "11mO4T4hujE6"
      },
      "execution_count": 30,
      "outputs": []
    },
    {
      "cell_type": "code",
      "metadata": {
        "colab": {
          "base_uri": "https://localhost:8080/",
          "height": 255
        },
        "id": "2cNiu9-9EY_L",
        "outputId": "e5867740-af91-42fc-a3c0-5f9824cd0c44"
      },
      "source": [
        "figure = plt.figure() \n",
        "axes1 = figure.add_subplot(1,1,1)  \n",
        "axes1.plot(x_axis,y_axis) \n",
        "# plt.title('As a whole')\n",
        "plt.scatter([per_95],[0.95],s=25,c='r') \n",
        "plt.plot([0,per_95],[0.95,0.95],c='b',linestyle='--')\n",
        "plt.plot([per_95,per_95],[0,0.95],c='b',linestyle='--')\n",
        "plt.text(per_95+0.15,0.95-0.12,'recall@k=95%',ha='center',va='bottom',fontsize=10.5)\n",
        "plt.scatter([per_90],[0.90],s=25,c='r') \n",
        "plt.plot([0,per_90],[0.90,0.90],c='b',linestyle='--')\n",
        "plt.plot([per_90,per_90],[0,0.90],c='b',linestyle='--')\n",
        "plt.text(per_90+0.15,0.90-0.12,'recall@k=90%',ha='center',va='bottom',fontsize=10.5)\n",
        "ax = plt.gca()\n",
        "ax.spines['top'].set_color('none')\n",
        "ax.spines['right'].set_color('none')\n",
        "ax.xaxis.set_ticks_position('bottom')\n",
        "ax.yaxis.set_ticks_position('left')\n",
        "ax.spines['bottom'].set_position(('data',0))\n",
        "ax.spines['left'].set_position(('data',0))\n",
        "figure.show() "
      ],
      "execution_count": 31,
      "outputs": [
        {
          "output_type": "display_data",
          "data": {
            "image/png": "[encoded data removed]",
            "text/plain": [
              "<Figure size 432x288 with 1 Axes>"
            ]
          },
          "metadata": {
            "needs_background": "light"
          }
        }
      ]
    },
    {
      "cell_type": "markdown",
      "metadata": {
        "id": "UXz9kUFUh2LF"
      },
      "source": [
        "#Making it iterative"
      ]
    },
    {
      "cell_type": "code",
      "metadata": {
        "id": "lF2jw8flIIVY"
      },
      "source": [
        "n=100\n",
        "iter=20\n",
        "index_list=[0]\n",
        "percentile_list=[percentile]\n",
        "for j in range(1,iter):\n",
        "  uncertain=[]\n",
        "  m = mean([item[3] for item in merged_list])\n",
        "  for i in range(0,len(merged_list)):\n",
        "    if merged_list[i][3] <= m+0.05 and merged_list[i][3] >= m-0.05:\n",
        "      uncertain.append(merged_list[i][0])\n",
        "  uncertain_sampled = random.sample(uncertain,n)\n",
        "\n",
        "  for i in range(1,len(uncertain_sampled)):\n",
        "    for j in range(1,len(s2020)):\n",
        "      if s2020['REFERENCE_ID'][j] == uncertain_sampled[i]:\n",
        "        s2013=s2013.append(s2020.iloc[i])\n",
        "\n",
        "  train_Y = s2013['CITED']\n",
        "  train_X = construct_feature_matrix(s2013, vectorizer)\n",
        "  test_X = construct_feature_matrix(s2020, vectorizer)\n",
        "\n",
        "  model = LogisticRegression(penalty='l2').fit(train_X, train_Y)\n",
        "  test_Y_hat = model.predict_proba(test_X)\n",
        "\n",
        "  prob=[]\n",
        "  # index=[]\n",
        "  for i in range(0,len(test_Y_hat)):\n",
        "    prob.append(test_Y_hat[i][1])\n",
        "    # index.append(i)\n",
        "  merged_list=merge(s2020['REFERENCE_ID'],s2020['PMID'],s2020['CITED'],prob)\n",
        "  merged_list.sort(key=lambda y: y[3],reverse=True)\n",
        "  # merged_list = merge(index,prob,s2020['CITED'])\n",
        "  # merged_list.sort(key=lambda y: y[1],reverse=True)\n",
        "\n",
        "  recall=calculate_recall(merged_list,1000)\n",
        "  x_axis = []\n",
        "  y_axis = []\n",
        "  for i in range(0,len(recall)):\n",
        "    x_axis.append(recall[i][0])\n",
        "    y_axis.append(recall[i][1])\n",
        "\n",
        "  x = [i for i in range(len(y_axis)) if y_axis[i] > 0.95]\n",
        "  percentile=x[0]/len(y_axis)\n",
        "  percentile_list.append(percentile)\n",
        "  index_list.append(j*n)"
      ],
      "execution_count": null,
      "outputs": []
    },
    {
      "cell_type": "code",
      "metadata": {
        "colab": {
          "base_uri": "https://localhost:8080/",
          "height": 265
        },
        "id": "46gMzHxDhwAX",
        "outputId": "7f8a2cd3-7d1d-4bf5-f235-6a74b811e1fb"
      },
      "source": [
        "figure = plt.figure() \n",
        "axes1 = figure.add_subplot(1,1,1)  \n",
        "axes1.plot(index_list,percentile_list) \n",
        "# plt.title('As a whole')\n",
        "# plt.scatter([94001],[0.95],s=25,c='r') \n",
        "# plt.plot([0,1900],[0.5,0.5],c='b',linestyle='--')\n",
        "ax = plt.gca()\n",
        "ax.spines['top'].set_color('none')\n",
        "ax.spines['right'].set_color('none')\n",
        "ax.xaxis.set_ticks_position('bottom')\n",
        "ax.yaxis.set_ticks_position('left')\n",
        "# ax.set_ylim(ymin=0,ymax=1)\n",
        "figure.show()"
      ],
      "execution_count": null,
      "outputs": [
        {
          "output_type": "display_data",
          "data": {
            "image/png": "[encoded data removed]",
            "text/plain": [
              "<Figure size 432x288 with 1 Axes>"
            ]
          },
          "metadata": {
            "needs_background": "light"
          }
        }
      ]
    }
  ]
}